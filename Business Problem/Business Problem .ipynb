{
    "cells": [
        {
            "cell_type": "markdown",
            "metadata": {
                "collapsed": true
            },
            "source": "# The Battle Of Neighbourhoods"
        },
        {
            "cell_type": "markdown",
            "metadata": {},
            "source": "## Business Proposal"
        },
        {
            "cell_type": "markdown",
            "metadata": {},
            "source": "## Introduction:\n\nIn this project we will come up with good solutions to help people around their neighbourhood. The results from this project will help people to make effective and smart decisons on selecting good neighbourhoods in Toranto.\n\nA lot of research is needed before selecting a neighbourhood to move to like affordable housing prices, availability of good hospitals and reputable schools. People look for easy access to Malls, grocery stores, hospitals, schools, etc. This project helps those people who are looking for better neighbourhoods.\n\nThe goal of this project is to analyse the features required by the people who are looking to migrate to Scarborough, Toronto and are looking for the best neighbourhood by doing a comparative analysis between various neighbourhoods. The features include crime rates of the selected area, school ratings, median housing price, emergency management, good weather conditions, water resources and good road connectivity.\n\nThis project hopes to help people and suffice them with enough information to help them make a choice before they move into a new neighbourhood and start their new life.\n\nThe main prpose of this project is to suggest a good neighbourhood in a new city for the people who are moving here. It looks after whether the neighbourhood has good connectivity to the airport, train station, bus shuttle, markets. etc. So the problems we tackle here are:\n    -Sort schools in terms of location, rating, reviews and fees.\n    -Sort houses based on housing prices starting cheapest.\n\n\n## Location:\n\nThe location we've picked for this project is Scarborough, Toronto, which is a popular destination for immigrants moving to Canada. This makes the place one of them most culturaly rich and diverse areas in the Greater Toronto area. It is home to various religious groups and places of worship. \n\nEven though immigaration has become a hot topic over the past few years with many governments imposing strict rules and regulations which try to reduce the inflow of immigrants and refugees, the general trend of immigration into Canada has been one on the rise.\n\n\n## Foursquare API:\n\nThis project would use Four-square API as its data gathering source since it has a database of millions of places. Especially their places API which provides the ability to search for locations, share it and also to search for multiple business details.\n\nThis project uses the credentials of Foursquare API to mine for features of near-by places of the neighborhoods. We will take the http request limitations into account.\n\n## Cluster Method:\n\nTo compare the similarities of two cities, we explore the neighborhoods, segment them, and group them into clusters to find similar neighborhoods in a big city like London and Toronto. To be able to do that, we need to cluster data which is a form of unsupervised machine learning. We use the K-means clustering algorithm for this purpose.\n\n## Libraries Used:\n\nTo ease our workflow we take help from the following python libraries for our model.\n1. Pandas\n2. Folium\n3. Geocoder\n4. Matplotlib\n5. Scikit Learn\n6. JSON\n7. XML\n\n\n"
        },
        {
            "cell_type": "code",
            "execution_count": null,
            "metadata": {},
            "outputs": [],
            "source": ""
        }
    ],
    "metadata": {
        "kernelspec": {
            "display_name": "Python 3.7",
            "language": "python",
            "name": "python3"
        },
        "language_info": {
            "codemirror_mode": {
                "name": "ipython",
                "version": 3
            },
            "file_extension": ".py",
            "mimetype": "text/x-python",
            "name": "python",
            "nbconvert_exporter": "python",
            "pygments_lexer": "ipython3",
            "version": "3.7.9"
        }
    },
    "nbformat": 4,
    "nbformat_minor": 1
}