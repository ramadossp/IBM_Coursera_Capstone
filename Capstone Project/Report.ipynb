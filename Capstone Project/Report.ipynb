{
    "cells": [
        {
            "cell_type": "markdown",
            "metadata": {
                "collapsed": true
            },
            "source": "# Final Report"
        },
        {
            "cell_type": "markdown",
            "metadata": {},
            "source": "# Capstone Project \u2013 The Battle of Neighborhoods "
        },
        {
            "cell_type": "markdown",
            "metadata": {},
            "source": "## (Best Neighbourhood in Scarborough)"
        },
        {
            "cell_type": "markdown",
            "metadata": {},
            "source": "## 1. Introduction:\n\nThe purpose of this Project is to help people in exploring better facilities around their neighborhood. It will help people making smart and efficient decision on selecting great neighborhood out of numbers of other neighborhoods in Scarborough, Toranto.\n\nLots of people are migrating to various states of Canada and needed lots of research for good housing prices and reputated schools for their children. This project is for those people who are looking for better neighborhoods. For ease of accessing to Cafe, School, Super market, medical shops, grocery shops, mall, theatre, hospital, like minded people, etc.\n\nThis Project aim to create an analysis of features for a people migrating to Scarborough to search a best neighborhood as a comparative analysis between neighborhoods. The features include median housing price and better school according to ratings, crime rates of that particular area, road connectivity, weather conditions, good management for emergency, water resources both freash and waste water and excrement conveyed in sewers and recreational facilities. \n\nIt will help people to get awareness of the area and neighborhood before moving to a new city, state, country or place for their work or to start a new fresh life.\n\n\n\n## 2. Data Section\n\nWe will use the Scarborough dataset which we took from wikipedia on our Week 3 assignment. The dataset consists of latitudes, longitudes and zip codes. Data Link: https://en.wikipedia.org/wiki/List_of_postal_codes_of_Canada:_M\n\n\n#### Foursquare API Data:\n\nWe will need data about different venues in different neighborhoods of that specific borough. \nIn order to gain that information we will use \"Foursquare\" locational information. Foursquare is a location data provider with information about all manner of venues and events within an area of interest. Such information includes venue names, locations, menus and even photos. As such, the foursquare location platform will be used as the sole data source since all the stated required information can be obtained through the API. \n\nAfter finding the list of neighborhoods, we then connect to the Foursquare API to gather information about venues inside each and every neighborhood. For each neighborhood, we have chosen the radius to be 100 meter.\n\nThe data retrieved from Foursquare contained information of venues within a specified distance of the longitude and latitude of the postcodes.\n\n\n\n## 3. Methodology Section\n\n#### Clustering Approach:\nTo compare the similarities of two cities, we decided to explore neighborhoods, segment them, and group them into clusters to find similar neighborhoods in a big city like New York and Toronto. To be able to do that, we need to cluster data which is a form of unsupervised machine learning: K-means clustering algorithm.\n\n#### Work Flow:\nUsing credentials of Foursquare API features of near-by places of the neighborhoods would be mined. Due to http request limitations the number of places per neighborhood parameter would reasonably be set to 100 and the radius parameter would be set to 500.\n\n\n\n## 4. Results Section\n\nThe major purpose of this project, is to suggest a better neighborhood in a new city for the person who are shiffting there. Social presence in society in terms of like minded people. Connectivity to the airport, bus stand, city center, markets and other daily needs things nearby.\n\nWe sorted list of house in terms of housing prices in a ascending or descending order. We also sorted list of schools in terms of location, fees, rating and reviews. The final graph in the project gave us a good idea of what the good neighbourhoods were.\n\n#### The Location:\nScarborough is a popular destination for new immigrants in Canada to reside. As a result, it is one of the most diverse and multicultural areas in the Greater Toronto Area, being home to various religious groups and places of worship. Although immigration has become a hot topic over the past few years with more governments seeking more restrictions on immigrants and refugees, the general trend of immigration into Canada has been one of on the rise.\n\n#### Foursquare API:\nThis project have used Four-square API as its prime data gathering source as it has a database of millions of places, especially their places API which provides the ability to perform location search, location sharing and details about a business.\n\n\n\n## 5. Conclusion Section\n\nIn this project, using k-means cluster algorithm I separated the neighborhood into 10(Ten) different clusters and for 103 different lattitude and logitude from dataset, which have very-similar neighborhoods around them. Using the charts above results presented to a particular neighborhood based on average house prices and school rating have been made.\n\nI feel rewarded with the efforts and believe this course with all the topics covered is well worthy of appreciation.\nThis project has shown me a practical application to resolve a real situation that has impacting personal and financial impact using Data Science tools.\nThe mapping with Folium is a very powerful technique to consolidate information and make the analysis and decision better with confidence.\n\n\n#### Future Works:\nThis project can be continued for making it more precise in terms to find best house in Scarborough. Best means on the basis of all required things(daily needs or things we need to live a better life) around and also in terms of cost effective. \n\n\n#### Libraries Which are Used to Develope the Project:\n\n1. Pandas\n2. Folium\n3. Scikit Learn\n4. Geocoder\n5. Matplotlib\n6. JSON\n7. XML\n"
        },
        {
            "cell_type": "code",
            "execution_count": null,
            "metadata": {},
            "outputs": [],
            "source": ""
        },
        {
            "cell_type": "code",
            "execution_count": null,
            "metadata": {},
            "outputs": [],
            "source": ""
        }
    ],
    "metadata": {
        "kernelspec": {
            "display_name": "Python 3.7",
            "language": "python",
            "name": "python3"
        },
        "language_info": {
            "codemirror_mode": {
                "name": "ipython",
                "version": 3
            },
            "file_extension": ".py",
            "mimetype": "text/x-python",
            "name": "python",
            "nbconvert_exporter": "python",
            "pygments_lexer": "ipython3",
            "version": "3.7.9"
        }
    },
    "nbformat": 4,
    "nbformat_minor": 1
}